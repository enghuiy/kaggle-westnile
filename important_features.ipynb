{
 "cells": [
  {
   "cell_type": "code",
   "execution_count": 4,
   "metadata": {
    "collapsed": false
   },
   "outputs": [],
   "source": [
    "import pandas as pd\n",
    "import numpy as np\n",
    "import importlib\n",
    "import processor_weather\n",
    "import processor_maindata\n",
    "import processor_spray\n",
    "\n",
    "importlib.reload(processor_weather)\n",
    "importlib.reload(processor_maindata)\n",
    "importlib.reload(processor_spray)\n",
    "% matplotlib inline"
   ]
  },
  {
   "cell_type": "code",
   "execution_count": 12,
   "metadata": {
    "collapsed": true
   },
   "outputs": [],
   "source": [
    "# Load dataset \n",
    "train_in = pd.read_csv('./input/train.csv')\n",
    "test_in = pd.read_csv('./input/test.csv')\n",
    "weather_in = pd.read_csv('./input/weather.csv')\n",
    "spray_in = pd.read_csv('./input/spray.csv')\n",
    "target = 'WnvPresent'\n"
   ]
  },
  {
   "cell_type": "code",
   "execution_count": 13,
   "metadata": {
    "collapsed": false
   },
   "outputs": [],
   "source": [
    "# encode categorical features\n",
    "train_cat, test_cat = processor_maindata.encode_categorical_features(train_in, test_in, 'Species')\n",
    "train_cat, test_cat = processor_maindata.encode_trap(train_cat, test_cat)"
   ]
  },
  {
   "cell_type": "code",
   "execution_count": 10,
   "metadata": {
    "collapsed": true
   },
   "outputs": [],
   "source": [
    "weather = processor_weather.transform_data(weather_in)"
   ]
  },
  {
   "cell_type": "code",
   "execution_count": 22,
   "metadata": {
    "collapsed": false
   },
   "outputs": [],
   "source": [
    "train_in_transformed = processor_maindata.transform_data(train_cat, target=target)\n",
    "train_in_transformed = processor_maindata.merge_weather(train_in_transformed, weather)\n",
    "df = train_in_transformed"
   ]
  },
  {
   "cell_type": "code",
   "execution_count": 32,
   "metadata": {
    "collapsed": false
   },
   "outputs": [],
   "source": [
    "col = 'AvgSpeed'\n",
    "bins = np.arange(2,16,2)\n",
    "x = df.groupby(pd.cut(df[col],bins))[target].mean()\n",
    "print(x)\n",
    "x.plot(kind='bar')"
   ]
  },
  {
   "cell_type": "code",
   "execution_count": 44,
   "metadata": {
    "collapsed": false
   },
   "outputs": [
    {
     "name": "stdout",
     "output_type": "stream",
     "text": [
      "Heat\n",
      "(0, 2]      0.009434\n",
      "(2, 4]      0.000000\n",
      "(4, 6]      0.000000\n",
      "(6, 8]      0.027473\n",
      "(8, 10]     0.037975\n",
      "(10, 12]    0.000000\n",
      "(12, 14]    0.017964\n",
      "Name: WnvPresent, dtype: float64\n"
     ]
    },
    {
     "data": {
      "text/plain": [
       "<matplotlib.axes._subplots.AxesSubplot at 0x1164470f0>"
      ]
     },
     "execution_count": 44,
     "metadata": {},
     "output_type": "execute_result"
    },
    {
     "data": {
      "image/png": "[encoded data removed]",
      "text/plain": [
       "<matplotlib.figure.Figure at 0x116e760b8>"
      ]
     },
     "metadata": {},
     "output_type": "display_data"
    }
   ],
   "source": [
    "col = 'Heat'\n",
    "bins = np.arange(0,15,2)\n",
    "x = df.groupby(pd.cut(df[col],bins))[target].mean()\n",
    "print(x)\n",
    "x.plot(kind='bar')"
   ]
  },
  {
   "cell_type": "code",
   "execution_count": 38,
   "metadata": {
    "collapsed": false
   },
   "outputs": [
    {
     "name": "stdout",
     "output_type": "stream",
     "text": [
      "Sunrise\n",
      "(410, 435]    0.008294\n",
      "(435, 460]    0.067161\n",
      "(460, 485]         NaN\n",
      "(485, 510]    0.159477\n",
      "(510, 535]    0.082345\n",
      "Name: WnvPresent, dtype: float64\n"
     ]
    },
    {
     "data": {
      "text/plain": [
       "<matplotlib.axes._subplots.AxesSubplot at 0x116395160>"
      ]
     },
     "execution_count": 38,
     "metadata": {},
     "output_type": "execute_result"
    },
    {
     "data": {
      "image/png": "[encoded data removed]",
      "text/plain": [
       "<matplotlib.figure.Figure at 0x1162f5588>"
      ]
     },
     "metadata": {},
     "output_type": "display_data"
    }
   ],
   "source": [
    "col = 'Sunrise'\n",
    "bins = np.arange(410,560,25)\n",
    "x = df.groupby(pd.cut(df[col],bins))[target].mean()\n",
    "print(x)\n",
    "x.plot(kind='bar')"
   ]
  },
  {
   "cell_type": "code",
   "execution_count": 42,
   "metadata": {
    "collapsed": false
   },
   "outputs": [
    {
     "name": "stdout",
     "output_type": "stream",
     "text": [
      "Sunset\n",
      "(1700, 1730]    0.009950\n",
      "(1730, 1760]    0.022748\n",
      "(1760, 1790]         NaN\n",
      "(1790, 1820]    0.099187\n",
      "(1820, 1850]    0.131619\n",
      "Name: WnvPresent, dtype: float64\n"
     ]
    },
    {
     "data": {
      "text/plain": [
       "<matplotlib.axes._subplots.AxesSubplot at 0x116b326a0>"
      ]
     },
     "execution_count": 42,
     "metadata": {},
     "output_type": "execute_result"
    },
    {
     "data": {
      "image/png": "[encoded data removed]",
      "text/plain": [
       "<matplotlib.figure.Figure at 0x116395438>"
      ]
     },
     "metadata": {},
     "output_type": "display_data"
    }
   ],
   "source": [
    "col = 'Sunset'\n",
    "bins = np.arange(1700,1860,30)\n",
    "x = df.groupby(pd.cut(df[col],bins))[target].mean()\n",
    "print(x)\n",
    "x.plot(kind='bar')"
   ]
  },
  {
   "cell_type": "code",
   "execution_count": 32,
   "metadata": {
    "collapsed": false
   },
   "outputs": [],
   "source": [
    "col = 'AvgSpeed'\n",
    "bins = np.arange(2,16,2)\n",
    "x = df.groupby(pd.cut(df[col],bins))[target].mean()\n",
    "print(x)\n",
    "x.plot(kind='bar')"
   ]
  },
  {
   "cell_type": "code",
   "execution_count": 36,
   "metadata": {
    "collapsed": false
   },
   "outputs": [
    {
     "name": "stdout",
     "output_type": "stream",
     "text": [
      "Species\n",
      "CULEX ERRATICUS           0.000000\n",
      "CULEX PIPIENS             0.088922\n",
      "CULEX PIPIENS/RESTUANS    0.055135\n",
      "CULEX RESTUANS            0.017883\n",
      "CULEX SALINARIUS          0.000000\n",
      "CULEX TARSALIS            0.000000\n",
      "CULEX TERRITANS           0.000000\n",
      "Name: WnvPresent, dtype: float64\n"
     ]
    }
   ],
   "source": [
    "train_in = pd.read_csv('./input/train.csv')\n",
    "col = 'Species'\n",
    "x = train_in.groupby(col)[target].mean()\n",
    "print(x)\n"
   ]
  }
 ],
 "metadata": {
  "kernelspec": {
   "display_name": "Python 3",
   "language": "python",
   "name": "python3"
  },
  "language_info": {
   "codemirror_mode": {
    "name": "ipython",
    "version": 3
   },
   "file_extension": ".py",
   "mimetype": "text/x-python",
   "name": "python",
   "nbconvert_exporter": "python",
   "pygments_lexer": "ipython3",
   "version": "3.6.0"
  }
 },
 "nbformat": 4,
 "nbformat_minor": 2
}
